{"cells":[{"cellId":"fda510e3ee3b457995a14864b98fe0f3","cell_type":"code","metadata":{"cell_id":"fda510e3ee3b457995a14864b98fe0f3","deepnote_cell_type":"code"},"source":"","block_group":"fda510e3ee3b457995a14864b98fe0f3","execution_count":null,"outputs":[],"outputs_reference":null,"content_dependencies":null}],
        "metadata": {"deepnote_notebook_id":"c1c23b32f321475a99fd829ec7cd8e7f"},
        "nbformat": 4,
        "nbformat_minor": 0,
        "version": 0
      }