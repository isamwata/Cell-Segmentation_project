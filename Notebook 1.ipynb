{"cells":[{"cellId":"0b116464bb9546d8afb1b1cbf79b6fdb","cell_type":"code","metadata":{"cell_id":"0b116464bb9546d8afb1b1cbf79b6fdb","deepnote_cell_type":"code"},"source":"","block_group":"0b116464bb9546d8afb1b1cbf79b6fdb","execution_count":null,"outputs":[],"outputs_reference":null,"content_dependencies":null}],
        "metadata": {"deepnote_notebook_id":"70734b67223c495d8b8ce2910088a6a6"},
        "nbformat": 4,
        "nbformat_minor": 0,
        "version": 0
      }