{"cells":[{"cellId":"e2babf87314e42db9eef9f3b100a28ab","cell_type":"code","metadata":{"cell_id":"e2babf87314e42db9eef9f3b100a28ab","deepnote_cell_type":"code"},"source":"","block_group":"e2babf87314e42db9eef9f3b100a28ab","execution_count":null,"outputs":[],"outputs_reference":null,"content_dependencies":null}],
        "metadata": {"deepnote_notebook_id":"076a3314b8114945b27a9af26419200f"},
        "nbformat": 4,
        "nbformat_minor": 0,
        "version": 0
      }