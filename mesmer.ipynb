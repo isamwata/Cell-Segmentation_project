{
  "cells": [
    {
      "cell_type": "markdown",
      "metadata": {},
      "source": [
        "\n# Mesmer: Tissue Segmentation\n\nMesmer can be accessed using `deepcell.applications` with a DeepCell API key.\n\nFor more information about using a DeepCell API key, please see :doc:`/API-key`.\n"
      ]
    },
    {
      "cell_type": "code",
      "execution_count": null,
      "metadata": {
        "collapsed": false
      },
      "outputs": [],
      "source": [
        "from matplotlib import pyplot as plt\n\nfrom deepcell.datasets import TissueNetSample\nfrom deepcell.utils.plot_utils import create_rgb_image, make_outline_overlay"
      ]
    },
    {
      "cell_type": "code",
      "execution_count": null,
      "metadata": {
        "collapsed": false
      },
      "outputs": [],
      "source": [
        "# Download multiplex data\nX, y, _ = TissueNetSample().load_data()"
      ]
    },
    {
      "cell_type": "markdown",
      "metadata": {},
      "source": [
        "create rgb overlay of image data for visualization\n\n"
      ]
    },
    {
      "cell_type": "code",
      "execution_count": null,
      "metadata": {
        "collapsed": false
      },
      "outputs": [],
      "source": [
        "rgb_images = create_rgb_image(X, channel_colors=['green', 'blue'])"
      ]
    },
    {
      "cell_type": "markdown",
      "metadata": {},
      "source": [
        "plot the data\n\n"
      ]
    },
    {
      "cell_type": "code",
      "execution_count": null,
      "metadata": {
        "collapsed": false
      },
      "outputs": [],
      "source": [
        "fig, ax = plt.subplots(1, 3, figsize=(15, 5))\nax[0].imshow(X[0, ..., 0], cmap='Greys_r')\nax[1].imshow(X[0, ..., 1], cmap='Greys_r')\nax[2].imshow(rgb_images[0, ...])\n\nax[0].set_title('Nuclear channel')\nax[1].set_title('Membrane channel')\nax[2].set_title('Overlay')\n\nfor a in ax:\n    a.axis('off')\n\nplt.show()\nfig.savefig('mesmer-input.png')"
      ]
    },
    {
      "cell_type": "markdown",
      "metadata": {},
      "source": [
        "<img src=\"file://../../images/mesmer-input.png\" align=\"center\">\n\nThe application will download pretrained weights for tissue segmentation. For more information\nabout application objects, please see our\n[documentation](https://deepcell.readthedocs.io/en/master/API/deepcell.applications.html).\n\n"
      ]
    },
    {
      "cell_type": "code",
      "execution_count": null,
      "metadata": {
        "collapsed": false
      },
      "outputs": [],
      "source": [
        "from deepcell.applications import Mesmer\napp = Mesmer()"
      ]
    },
    {
      "cell_type": "markdown",
      "metadata": {},
      "source": [
        "## Whole Cell Segmentation\n\nTypically, neural networks perform best on test data that is similar to the training data.\nIn the realm of biological imaging, the most common difference between datasets is the resolution\nof the data measured in microns per pixel. The training resolution of the model can be identified\nusing ``app.model_mpp``.\n\n"
      ]
    },
    {
      "cell_type": "code",
      "execution_count": null,
      "metadata": {
        "collapsed": false
      },
      "outputs": [],
      "source": [
        "print('Training Resolution:', app.model_mpp, 'microns per pixel')"
      ]
    },
    {
      "cell_type": "markdown",
      "metadata": {},
      "source": [
        "The resolution of the input data can be specified in ``app.predict`` using the ``image_mpp``\noption.\nThe ``Application`` will rescale the input data to match the training resolution and then rescale\nto the original size before returning the labeled image.\n\n"
      ]
    },
    {
      "cell_type": "code",
      "execution_count": null,
      "metadata": {
        "collapsed": false
      },
      "outputs": [],
      "source": [
        "segmentation_predictions = app.predict(X, image_mpp=0.5)"
      ]
    },
    {
      "cell_type": "markdown",
      "metadata": {},
      "source": [
        "create overlay of predictions\n\n"
      ]
    },
    {
      "cell_type": "code",
      "execution_count": null,
      "metadata": {
        "collapsed": false
      },
      "outputs": [],
      "source": [
        "overlay_data = make_outline_overlay(rgb_data=rgb_images, predictions=segmentation_predictions)"
      ]
    },
    {
      "cell_type": "markdown",
      "metadata": {},
      "source": [
        "select index for displaying\n\n"
      ]
    },
    {
      "cell_type": "code",
      "execution_count": null,
      "metadata": {
        "collapsed": false
      },
      "outputs": [],
      "source": [
        "idx = 0\n\n# plot the data\nfig, ax = plt.subplots(1, 2, figsize=(10, 5))\nax[0].imshow(rgb_images[idx, ...])\nax[1].imshow(overlay_data[idx, ...])\n\nax[0].set_title('Raw data')\nax[1].set_title('Predictions')\n\nfor a in ax:\n    a.axis('off')\n\nplt.show()\nfig.savefig('mesmer-wc.png')"
      ]
    },
    {
      "cell_type": "markdown",
      "metadata": {},
      "source": [
        "<img src=\"file://../../images/mesmer-wc.png\" align=\"center\">\n\n"
      ]
    },
    {
      "cell_type": "markdown",
      "metadata": {},
      "source": [
        "## Nuclear Segmentation\n\n"
      ]
    },
    {
      "cell_type": "markdown",
      "metadata": {},
      "source": [
        "In addition to predicting whole-cell segmentation, Mesmer can also be used for nuclear\npredictions\n\n"
      ]
    },
    {
      "cell_type": "code",
      "execution_count": null,
      "metadata": {
        "collapsed": false
      },
      "outputs": [],
      "source": [
        "segmentation_predictions_nuc = app.predict(X, image_mpp=0.5, compartment='nuclear')"
      ]
    },
    {
      "cell_type": "code",
      "execution_count": null,
      "metadata": {
        "collapsed": false
      },
      "outputs": [],
      "source": [
        "overlay_data_nuc = make_outline_overlay(\n    rgb_data=rgb_images,\n    predictions=segmentation_predictions_nuc)"
      ]
    },
    {
      "cell_type": "markdown",
      "metadata": {},
      "source": [
        "select index for displaying\n\n"
      ]
    },
    {
      "cell_type": "code",
      "execution_count": null,
      "metadata": {
        "collapsed": false
      },
      "outputs": [],
      "source": [
        "idx = 0\n\n# plot the data\nfig, ax = plt.subplots(1, 2, figsize=(10, 5))\nax[0].imshow(rgb_images[idx, ...])\nax[1].imshow(overlay_data_nuc[idx, ...])\n\nax[0].set_title('Raw data')\nax[1].set_title('Nuclear Predictions')\n\nfor a in ax:\n    a.axis('off')\n\nplt.show()\nfig.savefig('mesmer-nuc.png')"
      ]
    },
    {
      "cell_type": "markdown",
      "metadata": {},
      "source": [
        "<img src=\"file://../../images/mesmer-nuc.png\" align=\"center\">\n\n"
      ]
    },
    {
      "cell_type": "markdown",
      "metadata": {},
      "source": [
        "## Fine-tuning the model output\n\nIn most cases, we find that the default settings for the model work quite well across a range of\ntissues. However, if you notice specific, consistent errors in your data, there are a few things\nyou can change.\n\nThe first is the ``interior_threshold`` parameter. This controls how conservative the model is in\nestimating what is a cell vs what is background. Lower values of ``interior_threshold`` will\nresult in larger cells, whereas higher values will result in smaller cells.\n\nThe second is the ``maxima_threshold`` parameter. This controls what the model considers a unique\ncell. Lower values will result in more separate cells being predicted, whereas higher values\nwill result in fewer cells.\n\n"
      ]
    },
    {
      "cell_type": "markdown",
      "metadata": {},
      "source": [
        "To demonstrate the effect of ``interior_threshold``, we'll compare the default  with a much more\nstringent setting\n\n"
      ]
    },
    {
      "cell_type": "code",
      "execution_count": null,
      "metadata": {
        "collapsed": false
      },
      "outputs": [],
      "source": [
        "segmentation_predictions_interior = app.predict(\n    X,\n    image_mpp=0.5,\n    postprocess_kwargs_whole_cell={'interior_threshold': 0.5})\noverlay_data_interior = make_outline_overlay(\n    rgb_data=rgb_images,\n    predictions=segmentation_predictions_interior)"
      ]
    },
    {
      "cell_type": "markdown",
      "metadata": {},
      "source": [
        "select index for displaying\n\n"
      ]
    },
    {
      "cell_type": "code",
      "execution_count": null,
      "metadata": {
        "collapsed": false
      },
      "outputs": [],
      "source": [
        "idx = 0\n\n# plot the data\nfig, ax = plt.subplots(1, 2, figsize=(10, 5))\nax[0].imshow(overlay_data[idx, ...])\nax[1].imshow(overlay_data_interior[idx, ...])\n\nax[0].set_title('Default settings')\nax[1].set_title('More restrictive interior threshold')\n\nfor a in ax:\n    a.axis('off')\n\nplt.show()\nfig.savefig('mesmer-interior-threshold.png')"
      ]
    },
    {
      "cell_type": "markdown",
      "metadata": {},
      "source": [
        "<img src=\"file://../../images/mesmer-interior-threshold.png\" align=\"center\">\n\n"
      ]
    },
    {
      "cell_type": "markdown",
      "metadata": {},
      "source": [
        "To demonstrate the effect of ``maxima_threshold``, we'll compare the default with a much more\nstringent setting\n\n"
      ]
    },
    {
      "cell_type": "code",
      "execution_count": null,
      "metadata": {
        "collapsed": false
      },
      "outputs": [],
      "source": [
        "segmentation_predictions_maxima = app.predict(\n    X,\n    image_mpp=0.5,\n    postprocess_kwargs_whole_cell={'maxima_threshold': 0.8})\noverlay_data_maxima = make_outline_overlay(\n    rgb_data=rgb_images,\n    predictions=segmentation_predictions_maxima)"
      ]
    },
    {
      "cell_type": "markdown",
      "metadata": {},
      "source": [
        "select index for displaying\n\n"
      ]
    },
    {
      "cell_type": "code",
      "execution_count": null,
      "metadata": {
        "collapsed": false
      },
      "outputs": [],
      "source": [
        "idx = 0\n\n# plot the data\nfig, ax = plt.subplots(1, 2, figsize=(10, 5))\nax[0].imshow(overlay_data[idx, ...])\nax[1].imshow(overlay_data_maxima[idx, ...])\n\nax[0].set_title('Default settings')\nax[1].set_title('More stringent maxima threshold')\n\nfor a in ax:\n    a.axis('off')\n\nplt.show()\nfig.savefig('mesmer-maxima-threshold.png')"
      ]
    },
    {
      "cell_type": "markdown",
      "metadata": {},
      "source": [
        "<img src=\"file://../../images/mesmer-maxima-threshold.png\" width=\"400pt\" align=\"center\">\n\n"
      ]
    },
    {
      "cell_type": "markdown",
      "metadata": {},
      "source": [
        "Finally, if your data doesn't include in a strong membrane marker, the model will default to just\npredicting the nuclear segmentation, even for whole-cell mode. If you'd like to add a manual\npixel expansion after segmentation, you can do that using the ``pixel_expansion`` argument. This\nwill universally apply an expansion after segmentation to each cell\n\n"
      ]
    },
    {
      "cell_type": "markdown",
      "metadata": {},
      "source": [
        "To demonstrate the effect of ``pixel_expansion``, we'll compare the nuclear output\nwith expanded output\n\n"
      ]
    },
    {
      "cell_type": "code",
      "execution_count": null,
      "metadata": {
        "collapsed": false
      },
      "outputs": [],
      "source": [
        "segmentation_predictions_expansion = app.predict(\n    X,\n    image_mpp=0.5,\n    compartment='nuclear',\n    postprocess_kwargs_nuclear={'pixel_expansion': 5}\n)\noverlay_data_expansion = make_outline_overlay(\n    rgb_data=rgb_images,\n    predictions=segmentation_predictions_expansion\n)"
      ]
    },
    {
      "cell_type": "markdown",
      "metadata": {},
      "source": [
        "select index for displaying\n\n"
      ]
    },
    {
      "cell_type": "code",
      "execution_count": null,
      "metadata": {
        "collapsed": false
      },
      "outputs": [],
      "source": [
        "idx = 0\n\n# plot the data\nfig, ax = plt.subplots(1, 2, figsize=(10, 5))\nax[0].imshow(overlay_data_nuc[idx, ...])\nax[1].imshow(overlay_data_expansion[idx, ...])\n\nax[0].set_title('Default nuclear segmentation')\nax[1].set_title('Nuclear segmentation with an expansion')\n\nfor a in ax:\n    a.axis('off')\n\nplt.show()\nfig.savefig('mesmer-nuc-expansion.png')"
      ]
    },
    {
      "cell_type": "markdown",
      "metadata": {},
      "source": [
        "<img src=\"file://../../images/mesmer-nuc-expansion.png\" align=\"center\">\n\n"
      ]
    },
    {
      "cell_type": "markdown",
      "metadata": {},
      "source": [
        "There's a separate dictionary passed to the model that controls the post-processing for\nwhole-cell and nuclear predictions. You can modify them independently to fine-tune the output.\nThe current defaults the model is using can be found\n[here](https://github.com/vanvalenlab/deepcell-tf/blob/master/deepcell/applications/mesmer.py#L272)\n\n"
      ]
    }
  ],
  "metadata": {
    "kernelspec": {
      "display_name": "Python 3",
      "language": "python",
      "name": "python3"
    },
    "language_info": {
      "codemirror_mode": {
        "name": "ipython",
        "version": 3
      },
      "file_extension": ".py",
      "mimetype": "text/x-python",
      "name": "python",
      "nbconvert_exporter": "python",
      "pygments_lexer": "ipython3",
      "version": "3.10.14"
    }
  },
  "nbformat": 4,
  "nbformat_minor": 0
}